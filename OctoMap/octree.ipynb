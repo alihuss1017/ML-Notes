{
 "cells": [
  {
   "cell_type": "code",
   "execution_count": 132,
   "metadata": {},
   "outputs": [],
   "source": [
    "import open3d as o3d\n",
    "import numpy as np"
   ]
  },
  {
   "cell_type": "code",
   "execution_count": 133,
   "metadata": {},
   "outputs": [
    {
     "data": {
      "text/plain": [
       "['HalfEdgeTriangleMesh',\n",
       " 'Image',\n",
       " 'LineSet',\n",
       " 'PointCloud',\n",
       " 'RGBDImage',\n",
       " 'TetraMesh',\n",
       " 'TriangleMesh',\n",
       " 'Type',\n",
       " 'Unspecified',\n",
       " 'VoxelGrid',\n",
       " '__class__',\n",
       " '__copy__',\n",
       " '__deepcopy__',\n",
       " '__delattr__',\n",
       " '__dir__',\n",
       " '__doc__',\n",
       " '__eq__',\n",
       " '__format__',\n",
       " '__ge__',\n",
       " '__getattribute__',\n",
       " '__gt__',\n",
       " '__hash__',\n",
       " '__init__',\n",
       " '__init_subclass__',\n",
       " '__le__',\n",
       " '__lt__',\n",
       " '__module__',\n",
       " '__ne__',\n",
       " '__new__',\n",
       " '__reduce__',\n",
       " '__reduce_ex__',\n",
       " '__repr__',\n",
       " '__setattr__',\n",
       " '__sizeof__',\n",
       " '__str__',\n",
       " '__subclasshook__',\n",
       " 'clear',\n",
       " 'convert_from_point_cloud',\n",
       " 'create_from_voxel_grid',\n",
       " 'dimension',\n",
       " 'get_axis_aligned_bounding_box',\n",
       " 'get_center',\n",
       " 'get_geometry_type',\n",
       " 'get_max_bound',\n",
       " 'get_min_bound',\n",
       " 'get_oriented_bounding_box',\n",
       " 'get_rotation_matrix_from_axis_angle',\n",
       " 'get_rotation_matrix_from_quaternion',\n",
       " 'get_rotation_matrix_from_xyz',\n",
       " 'get_rotation_matrix_from_xzy',\n",
       " 'get_rotation_matrix_from_yxz',\n",
       " 'get_rotation_matrix_from_yzx',\n",
       " 'get_rotation_matrix_from_zxy',\n",
       " 'get_rotation_matrix_from_zyx',\n",
       " 'insert_point',\n",
       " 'is_empty',\n",
       " 'is_point_in_bound',\n",
       " 'locate_leaf_node',\n",
       " 'max_depth',\n",
       " 'origin',\n",
       " 'root_node',\n",
       " 'rotate',\n",
       " 'scale',\n",
       " 'size',\n",
       " 'to_voxel_grid',\n",
       " 'transform',\n",
       " 'translate',\n",
       " 'traverse']"
      ]
     },
     "execution_count": 133,
     "metadata": {},
     "output_type": "execute_result"
    }
   ],
   "source": [
    "dir(o3d.geometry.Octree)"
   ]
  },
  {
   "cell_type": "code",
   "execution_count": 134,
   "metadata": {},
   "outputs": [],
   "source": [
    "pcd = o3d.io.read_point_cloud(\"C:/Users/ali49/OneDrive/Documents/Python Scripts/PyTutorials/PyTutorials/Point Cloud/girishpointcloud.ply\")\n",
    "pcd.scale(1 / np.max(pcd.get_max_bound() - pcd.get_min_bound()),center=pcd.get_center())\n",
    "pcd.colors = o3d.utility.Vector3dVector(np.random.uniform(0, 1, size=(len(pcd.points), 3)))\n",
    "# Create an octree structure\n",
    "octree = o3d.geometry.Octree(max_depth=4)\n",
    "octree.convert_from_point_cloud(pcd, size_expand = .01)\n"
   ]
  },
  {
   "cell_type": "code",
   "execution_count": 135,
   "metadata": {},
   "outputs": [
    {
     "name": "stdout",
     "output_type": "stream",
     "text": [
      "[Voxel with grid_index: (-2147483648, -2147483648, -2147483648), color: (0.297875, 0.11886, 0.633674)]\n"
     ]
    }
   ],
   "source": [
    "vox_grid = octree.to_voxel_grid()\n",
    "print(vox_grid.get_voxels()) "
   ]
  },
  {
   "cell_type": "code",
   "execution_count": 136,
   "metadata": {},
   "outputs": [
    {
     "name": "stdout",
     "output_type": "stream",
     "text": [
      "VoxelGrid with 1 voxels.\n"
     ]
    }
   ],
   "source": [
    "print(vox_grid)"
   ]
  }
 ],
 "metadata": {
  "kernelspec": {
   "display_name": "env",
   "language": "python",
   "name": "python3"
  },
  "language_info": {
   "codemirror_mode": {
    "name": "ipython",
    "version": 3
   },
   "file_extension": ".py",
   "mimetype": "text/x-python",
   "name": "python",
   "nbconvert_exporter": "python",
   "pygments_lexer": "ipython3",
   "version": "3.8.3"
  },
  "orig_nbformat": 4,
  "vscode": {
   "interpreter": {
    "hash": "ef7b713d108ecf91b9e213161e26d30e5db244be8b1c57f9895ae80d119e6961"
   }
  }
 },
 "nbformat": 4,
 "nbformat_minor": 2
}
