{
 "cells": [
  {
   "cell_type": "code",
   "execution_count": 15,
   "metadata": {},
   "outputs": [],
   "source": [
    "import pybullet as p\n",
    "import random as rand\n",
    "import numpy as np"
   ]
  },
  {
   "cell_type": "code",
   "execution_count": 16,
   "metadata": {},
   "outputs": [
    {
     "ename": "error",
     "evalue": "Only one local in-process GUI/GUI_SERVER connection allowed. Use DIRECT connection mode or start a separate GUI physics server (ExampleBrowser, App_SharedMemoryPhysics_GUI, App_SharedMemoryPhysics_VR) and connect over SHARED_MEMORY, UDP or TCP instead.",
     "output_type": "error",
     "traceback": [
      "\u001b[1;31m---------------------------------------------------------------------------\u001b[0m",
      "\u001b[1;31merror\u001b[0m                                     Traceback (most recent call last)",
      "Cell \u001b[1;32mIn [16], line 1\u001b[0m\n\u001b[1;32m----> 1\u001b[0m p\u001b[39m.\u001b[39;49mconnect(p\u001b[39m.\u001b[39;49mGUI)\n\u001b[0;32m      2\u001b[0m num_points \u001b[39m=\u001b[39m \u001b[39m10\u001b[39m\n\u001b[0;32m      3\u001b[0m point_radius \u001b[39m=\u001b[39m \u001b[39m0.02\u001b[39m\n",
      "\u001b[1;31merror\u001b[0m: Only one local in-process GUI/GUI_SERVER connection allowed. Use DIRECT connection mode or start a separate GUI physics server (ExampleBrowser, App_SharedMemoryPhysics_GUI, App_SharedMemoryPhysics_VR) and connect over SHARED_MEMORY, UDP or TCP instead."
     ]
    }
   ],
   "source": [
    "p.connect(p.GUI)\n",
    "num_points = 10\n",
    "point_radius = 0.02\n",
    "points = []\n",
    "for i in range(num_points):\n",
    "    x = rand.uniform(-2, 2)\n",
    "    y = rand.uniform(-2, 2)\n",
    "    z = rand.uniform(0, 2)\n",
    "    point = p.createVisualShape(p.GEOM_SPHERE, radius=point_radius, rgbaColor=[1, 0, 0, 1])\n",
    "    point_id = p.createMultiBody(baseVisualShapeIndex=point, basePosition=[x, y, z])\n",
    "    points.append(point_id)"
   ]
  },
  {
   "cell_type": "code",
   "execution_count": null,
   "metadata": {},
   "outputs": [
    {
     "ename": "TypeError",
     "evalue": "function missing required argument 'farVal' (pos 4)",
     "output_type": "error",
     "traceback": [
      "\u001b[1;31m---------------------------------------------------------------------------\u001b[0m",
      "\u001b[1;31mTypeError\u001b[0m                                 Traceback (most recent call last)",
      "Cell \u001b[1;32mIn [4], line 5\u001b[0m\n\u001b[0;32m      3\u001b[0m width \u001b[39m=\u001b[39m \u001b[39mint\u001b[39m(\u001b[39m320\u001b[39m)\n\u001b[0;32m      4\u001b[0m aspect \u001b[39m=\u001b[39m width\u001b[39m/\u001b[39mheight\n\u001b[1;32m----> 5\u001b[0m proj_mtx \u001b[39m=\u001b[39m p\u001b[39m.\u001b[39;49mcomputeProjectionMatrixFOV(\u001b[39m50\u001b[39;49m, \u001b[39m.1\u001b[39;49m, \u001b[39m10\u001b[39;49m)\n\u001b[0;32m      7\u001b[0m view_mtx \u001b[39m=\u001b[39m np\u001b[39m.\u001b[39marray(view_mtx)\u001b[39m.\u001b[39mreshape((\u001b[39m4\u001b[39m,\u001b[39m4\u001b[39m),order\u001b[39m=\u001b[39m\u001b[39m'\u001b[39m\u001b[39mF\u001b[39m\u001b[39m'\u001b[39m)\n\u001b[0;32m      8\u001b[0m trans_mtx \u001b[39m=\u001b[39m np\u001b[39m.\u001b[39mlinalg\u001b[39m.\u001b[39minv(view_mtx)        \n",
      "\u001b[1;31mTypeError\u001b[0m: function missing required argument 'farVal' (pos 4)"
     ]
    }
   ],
   "source": [
    "\n",
    "view_mtx = p.computeViewMatrixFromYawPitchRoll((0,0,0), 5, 0, -40, 0, upAxisIndex=2)     \n",
    "height = int(240)\n",
    "width = int(320)\n",
    "aspect = width/height\n",
    "proj_mtx = p.computeProjectionMatrixFOV(50, 1.33, nearVal = .1 farVal =10)\n",
    "\n",
    "view_mtx = np.array(view_mtx).reshape((4,4),order='F')\n",
    "trans_mtx = np.linalg.inv(view_mtx)        \n",
    "cam_pos = np.dot(view_mtx[:3,:3].T, -view_mtx[:3,3])\n",
    "cam_euler = np.radians([-40,0,0])\n",
    "cam_quat = p.getQuaternionFromEuler(cam_euler)\n",
    "view_mtx = view_mtx.reshape(-1, order='F')\n",
    "img = p.getCameraImage(width, height, view_mtx, proj_mtx, renderer = p.ER_TINY_RENDERER)"
   ]
  }
 ],
 "metadata": {
  "kernelspec": {
   "display_name": "Python 3",
   "language": "python",
   "name": "python3"
  },
  "language_info": {
   "codemirror_mode": {
    "name": "ipython",
    "version": 3
   },
   "file_extension": ".py",
   "mimetype": "text/x-python",
   "name": "python",
   "nbconvert_exporter": "python",
   "pygments_lexer": "ipython3",
   "version": "3.8.3"
  },
  "orig_nbformat": 4,
  "vscode": {
   "interpreter": {
    "hash": "618e6f0a0f5e6103729bcee527c32647b6f1ff8ebde56d9153a8fa5e32a14150"
   }
  }
 },
 "nbformat": 4,
 "nbformat_minor": 2
}
