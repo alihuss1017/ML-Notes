{
 "cells": [
  {
   "attachments": {},
   "cell_type": "markdown",
   "metadata": {},
   "source": [
    "# Python Basics"
   ]
  },
  {
   "attachments": {},
   "cell_type": "markdown",
   "metadata": {},
   "source": [
    "### strings are immutable: you cannot change the values of a string once created: for example: selfish[0] = '9' is invalid."
   ]
  },
  {
   "cell_type": "code",
   "execution_count": 1,
   "metadata": {},
   "outputs": [
    {
     "name": "stdout",
     "output_type": "stream",
     "text": [
      "6\n",
      "YHWACH\n",
      "Yhwach\n",
      "Ichigo\n",
      "Yhwach\n",
      "Oh, so you're 2006 years old!\n",
      "ali49, your password ***** is 5 characters long.\n"
     ]
    }
   ],
   "source": [
    "quincy = 'Yhwach'\n",
    "print(len(quincy))\n",
    "print(quincy.upper())\n",
    "print(quincy.capitalize())\n",
    "print(quincy.replace(\"Yhwach\", \"Ichigo\"))\n",
    "print(quincy) #this will print yhwach still because strings are immutable\n",
    "username = input(\"Enter username: \")\n",
    "password = input(\"Enter password: \")\n",
    "password_length = len(password)\n",
    "encrypted_password = '*' * password_length\n",
    "print(f'{username}, your password {encrypted_password} is {password_length} characters long.')"
   ]
  },
  {
   "attachments": {},
   "cell_type": "markdown",
   "metadata": {},
   "source": [
    "### List: ordered sequence of objects of any type, and unlike strings, they are mutable "
   ]
  },
  {
   "cell_type": "code",
   "execution_count": 2,
   "metadata": {},
   "outputs": [
    {
     "name": "stdout",
     "output_type": "stream",
     "text": [
      "[1, 2, 3, 4, 5]\n",
      "[1, 2, 3, 4, 6]\n",
      "[1, 3, 4, 6, 6, 7, 8, 9, 10]\n",
      "7\n",
      "['a', 'b', 'e', 'f', 'w', 'x']\n",
      "['f', 'e', 'w', 'x', 'b', 'a']\n",
      "f e w x b a\n"
     ]
    }
   ],
   "source": [
    "x = [1,2,3,4,5]\n",
    "z = x[:] # list slicing creates a new copy of the list: if you simply pass the list, any changes to z will change x\n",
    "z[4] = 6\n",
    "print(x)\n",
    "print(z)\n",
    "\n",
    "z.extend([6,7,8,9,10])\n",
    "z.append(11)\n",
    "z.pop()\n",
    "z.pop(1)\n",
    "print(z)\n",
    "print(z.index(9))\n",
    "\n",
    "basket = ['a','b', 'x', 'w','e','f']\n",
    "print(sorted(basket))\n",
    "basket.reverse()\n",
    "print(basket)\n",
    "print(' '.join(basket))"
   ]
  },
  {
   "attachments": {},
   "cell_type": "markdown",
   "metadata": {},
   "source": [
    "### List Unpacking"
   ]
  },
  {
   "cell_type": "code",
   "execution_count": 3,
   "metadata": {},
   "outputs": [
    {
     "name": "stdout",
     "output_type": "stream",
     "text": [
      "1\n",
      "2\n",
      "3\n",
      "[4, 5, 6, 7, 8, 9]\n",
      "10\n"
     ]
    }
   ],
   "source": [
    "a,b,c, *other, d = [1,2,3,4,5,6,7,8,9,10]\n",
    "print(a)\n",
    "print(b)\n",
    "print(c)\n",
    "print(other)\n",
    "print(d)"
   ]
  },
  {
   "attachments": {},
   "cell_type": "markdown",
   "metadata": {},
   "source": [
    "### Dictionaries: unordered key-value pairs. A dictionary's keys must be immutable: having a key of type list is an error\n"
   ]
  },
  {
   "cell_type": "code",
   "execution_count": 4,
   "metadata": {},
   "outputs": [
    {
     "name": "stdout",
     "output_type": "stream",
     "text": [
      "{'name': 'Ali Hussain', 'age': 20, 'occupation': 'EE student'}\n",
      "20\n",
      "{'name': 'Ali Hussain', 'occupation': 'Top G'}\n"
     ]
    }
   ],
   "source": [
    "dictionary = {'name': 'Ali Hussain', 'age': 20, 'occupation': 'EE student'}\n",
    "print(dictionary)\n",
    "print(dictionary.get('age',55)) #checks if age exists and if not, then it uses 55 for age.\n",
    "dictionary.update({'occupation':'Top G'})\n",
    "dictionary.pop('age')\n",
    "print(dictionary)"
   ]
  },
  {
   "attachments": {},
   "cell_type": "markdown",
   "metadata": {},
   "source": [
    "### Tuples are like lists but immutable; they cannot be changed."
   ]
  },
  {
   "cell_type": "code",
   "execution_count": 5,
   "metadata": {},
   "outputs": [
    {
     "name": "stdout",
     "output_type": "stream",
     "text": [
      "1\n",
      "2\n"
     ]
    }
   ],
   "source": [
    "my_tuple = (1,2,3,4,5)\n",
    "print(my_tuple.count(1))\n",
    "print(my_tuple.index(3))"
   ]
  },
  {
   "attachments": {},
   "cell_type": "markdown",
   "metadata": {},
   "source": [
    "### Set: an unordered collection of unique objects\n"
   ]
  },
  {
   "cell_type": "code",
   "execution_count": 6,
   "metadata": {},
   "outputs": [
    {
     "name": "stdout",
     "output_type": "stream",
     "text": [
      "{1, 2, 3, 4, 5}\n",
      "{1, 2, 3, 4, 5, 100}\n",
      "{1, 2, 3, 100}\n"
     ]
    }
   ],
   "source": [
    "my_set = {1,2,3,4,5,5}\n",
    "your_set = {4,5,6,7,8,9,10}\n",
    "print(my_set) #will only print 5 once\n",
    "my_set.add(100)\n",
    "print(my_set)\n",
    "print(my_set.difference(your_set))\n"
   ]
  }
 ],
 "metadata": {
  "kernelspec": {
   "display_name": "Python 3",
   "language": "python",
   "name": "python3"
  },
  "language_info": {
   "codemirror_mode": {
    "name": "ipython",
    "version": 3
   },
   "file_extension": ".py",
   "mimetype": "text/x-python",
   "name": "python",
   "nbconvert_exporter": "python",
   "pygments_lexer": "ipython3",
   "version": "3.8.3 (tags/v3.8.3:6f8c832, May 13 2020, 22:37:02) [MSC v.1924 64 bit (AMD64)]"
  },
  "orig_nbformat": 4,
  "vscode": {
   "interpreter": {
    "hash": "618e6f0a0f5e6103729bcee527c32647b6f1ff8ebde56d9153a8fa5e32a14150"
   }
  }
 },
 "nbformat": 4,
 "nbformat_minor": 2
}
