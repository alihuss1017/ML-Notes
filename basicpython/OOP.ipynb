{
 "cells": [
  {
   "attachments": {},
   "cell_type": "markdown",
   "metadata": {},
   "source": [
    "# Object-Oriented Programming\n",
    "\n",
    "\n",
    "### Objects are an encapsulation of variables and functions into a single entity, and they get said vars and funcs form classes, which are a template to create your objects."
   ]
  },
  {
   "cell_type": "code",
   "execution_count": 27,
   "metadata": {},
   "outputs": [
    {
     "name": "stdout",
     "output_type": "stream",
     "text": [
      "This player's name is Ali. He is 19 years old.\n"
     ]
    }
   ],
   "source": [
    "class PlayerCharacter:\n",
    "    membership = True #Class object attribute: will pertain to every object of this class\n",
    "    def __init__(self,name,age):\n",
    "        self.name = name #attributes\n",
    "        self.age = age\n",
    "    def details(self):\n",
    "        print(f'This player\\'s name is {self.name}. He is {self.age} years old.')\n",
    "\n",
    "player1 = PlayerCharacter(\"Ali\", 19)\n",
    "player1.details()"
   ]
  },
  {
   "attachments": {},
   "cell_type": "markdown",
   "metadata": {},
   "source": [
    " Class Methods: You can run class methods without instantiating a class object."
   ]
  },
  {
   "cell_type": "code",
   "execution_count": 28,
   "metadata": {},
   "outputs": [
    {
     "data": {
      "text/plain": [
       "5"
      ]
     },
     "execution_count": 28,
     "metadata": {},
     "output_type": "execute_result"
    }
   ],
   "source": [
    "class PlayerCharacter:\n",
    "    def __init__(self,name,age):\n",
    "        self.name = name\n",
    "        self.age = age\n",
    "    \n",
    "    @classmethod\n",
    "    def adding_things(cls,num1,num2):\n",
    "        return num1+num2\n",
    "PlayerCharacter.adding_things(2,3)"
   ]
  },
  {
   "attachments": {},
   "cell_type": "markdown",
   "metadata": {},
   "source": [
    "Static Methods: No access to cls or class. Used when you don't care about the class attributes."
   ]
  },
  {
   "cell_type": "code",
   "execution_count": 29,
   "metadata": {},
   "outputs": [
    {
     "data": {
      "text/plain": [
       "5"
      ]
     },
     "execution_count": 29,
     "metadata": {},
     "output_type": "execute_result"
    }
   ],
   "source": [
    "class PlayerCharacter:\n",
    "    def __init__(self,name,age):\n",
    "        self.name = name\n",
    "        self.age = age\n",
    "    \n",
    "    @staticmethod\n",
    "    def adding_things(num1,num2):\n",
    "        return num1+num2\n",
    "PlayerCharacter.adding_things(2,3)"
   ]
  },
  {
   "attachments": {},
   "cell_type": "markdown",
   "metadata": {},
   "source": [
    "Abstraction: Giving users only the methods and objects, hiding the implementation."
   ]
  },
  {
   "cell_type": "code",
   "execution_count": 30,
   "metadata": {},
   "outputs": [
    {
     "name": "stdout",
     "output_type": "stream",
     "text": [
      "My name is Ali. I am 20 years old\n"
     ]
    }
   ],
   "source": [
    "class PlayerCharacter:\n",
    "    def __init__(self, name, age):\n",
    "        self._name = name\n",
    "        self._age = age\n",
    "    def run(self):\n",
    "        print('run')\n",
    "    def speak(self):\n",
    "        print(f'My name is {self._name}. I am {self._age} years old')\n",
    "\n",
    "player1 = PlayerCharacter('Ali', 20)\n",
    "player1.speak()"
   ]
  },
  {
   "attachments": {},
   "cell_type": "markdown",
   "metadata": {},
   "source": [
    "Private Variables: The underscore indicates that the variable is private and should not be accessed/modified.  It is simply a convention."
   ]
  },
  {
   "cell_type": "code",
   "execution_count": 31,
   "metadata": {},
   "outputs": [],
   "source": [
    "class PlayerCharacter:\n",
    "    def __init__(self, name, age):\n",
    "        self._name = name\n",
    "        self._age = age"
   ]
  },
  {
   "attachments": {},
   "cell_type": "markdown",
   "metadata": {},
   "source": [
    "Inheritance"
   ]
  },
  {
   "cell_type": "code",
   "execution_count": 32,
   "metadata": {},
   "outputs": [
    {
     "name": "stdout",
     "output_type": "stream",
     "text": [
      "logged in\n",
      "None\n"
     ]
    }
   ],
   "source": [
    "class User:\n",
    "    def sign_in(self):\n",
    "        print('logged in')\n",
    "\n",
    "class Wizard(User):\n",
    "    def __init__(self,name,power):\n",
    "        self.name = name\n",
    "        self.power = power\n",
    "    def attack(self):\n",
    "        print(f'Attacking with power of {self.power}')\n",
    "    \n",
    "\n",
    "class Archer(User):\n",
    "     def __init__(self,name,num_arrows):\n",
    "        self.name = name\n",
    "        self.num_arrows = num_arrows\n",
    "     def attack(self):\n",
    "        print(f'Attacking with arrows: arrows left- {self.num_arrows}')\n",
    "\n",
    "wizard1 = Wizard(\"Ali\", 40)\n",
    "archer1 = Archer(\"Talha\", 500)\n",
    "wizard1.sign_in()"
   ]
  }
 ],
 "metadata": {
  "kernelspec": {
   "display_name": "Python 3",
   "language": "python",
   "name": "python3"
  },
  "language_info": {
   "codemirror_mode": {
    "name": "ipython",
    "version": 3
   },
   "file_extension": ".py",
   "mimetype": "text/x-python",
   "name": "python",
   "nbconvert_exporter": "python",
   "pygments_lexer": "ipython3",
   "version": "3.8.3 (tags/v3.8.3:6f8c832, May 13 2020, 22:37:02) [MSC v.1924 64 bit (AMD64)]"
  },
  "orig_nbformat": 4,
  "vscode": {
   "interpreter": {
    "hash": "618e6f0a0f5e6103729bcee527c32647b6f1ff8ebde56d9153a8fa5e32a14150"
   }
  }
 },
 "nbformat": 4,
 "nbformat_minor": 2
}
