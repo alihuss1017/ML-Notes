{
 "cells": [
  {
   "attachments": {},
   "cell_type": "markdown",
   "metadata": {},
   "source": [
    "# Functional Programming\n",
    "\n"
   ]
  },
  {
   "attachments": {},
   "cell_type": "markdown",
   "metadata": {},
   "source": [
    "### Pure functions: same input should always produce same output, no side effects"
   ]
  },
  {
   "cell_type": "code",
   "execution_count": 1,
   "metadata": {},
   "outputs": [
    {
     "name": "stdout",
     "output_type": "stream",
     "text": [
      "[2, 4, 6]\n"
     ]
    }
   ],
   "source": [
    "def multiply_by_2(li):\n",
    "    new_list=[]\n",
    "    for item in li:\n",
    "        new_list.append(item*2)\n",
    "    return new_list\n",
    "\n",
    "print(multiply_by_2([1,2,3]))\n"
   ]
  },
  {
   "attachments": {},
   "cell_type": "markdown",
   "metadata": {},
   "source": [
    "### Map: allows you to execute an action for an iterable"
   ]
  },
  {
   "cell_type": "code",
   "execution_count": 2,
   "metadata": {},
   "outputs": [
    {
     "name": "stdout",
     "output_type": "stream",
     "text": [
      "[2, 4, 6]\n"
     ]
    }
   ],
   "source": [
    "def multiply_by_2(item):\n",
    "    return item*2\n",
    "print(list(map(multiply_by_2,[1,2,3])))\n"
   ]
  },
  {
   "attachments": {},
   "cell_type": "markdown",
   "metadata": {},
   "source": [
    "### Filter: applies a filter function to a given iterable "
   ]
  },
  {
   "cell_type": "code",
   "execution_count": 3,
   "metadata": {},
   "outputs": [
    {
     "name": "stdout",
     "output_type": "stream",
     "text": [
      "[1, 3, 5, 7, 9]\n"
     ]
    }
   ],
   "source": [
    "def check_odd(item):\n",
    "    return item%2 == 1\n",
    "\n",
    "print(list(filter(check_odd,[1,2,3,4,5,6,7,8,9,10])))"
   ]
  },
  {
   "attachments": {},
   "cell_type": "markdown",
   "metadata": {},
   "source": [
    "### Zip: Two iterables \"zipped\" together into a single iterable"
   ]
  },
  {
   "cell_type": "code",
   "execution_count": 4,
   "metadata": {},
   "outputs": [
    {
     "name": "stdout",
     "output_type": "stream",
     "text": [
      "[(1, 10), (2, 20), (3, 30)]\n"
     ]
    }
   ],
   "source": [
    "my_list = [1,2,3]\n",
    "your_list = [10,20,30]\n",
    "print(list(zip(my_list,your_list)))"
   ]
  },
  {
   "attachments": {},
   "cell_type": "markdown",
   "metadata": {},
   "source": [
    "### Reduce: pass function, iterable, and initial value in said function"
   ]
  },
  {
   "cell_type": "code",
   "execution_count": 5,
   "metadata": {},
   "outputs": [
    {
     "name": "stdout",
     "output_type": "stream",
     "text": [
      "0 1\n",
      "1 2\n",
      "3 3\n",
      "6\n"
     ]
    }
   ],
   "source": [
    "from functools import reduce\n",
    "my_list = [1,2,3]\n",
    "def accumulator(acc,item):\n",
    "    print(acc, item)\n",
    "    return acc + item\n",
    "print((reduce(accumulator,my_list,0)))"
   ]
  },
  {
   "attachments": {},
   "cell_type": "markdown",
   "metadata": {},
   "source": [
    "### Lambda expressions: small anonymous functions that can take any number of arguments but can only have one expression"
   ]
  },
  {
   "cell_type": "code",
   "execution_count": 6,
   "metadata": {},
   "outputs": [
    {
     "name": "stdout",
     "output_type": "stream",
     "text": [
      "[2, 4, 6]\n",
      "[1, 2, 3]\n",
      "[25, 16, 9]\n",
      "[(10, -1), (0, 2), (4, 3), (9, 9)]\n"
     ]
    }
   ],
   "source": [
    "#lambda expressions: one time anonymous \n",
    "\n",
    "my_list = [1,2,3]\n",
    "print(list(map(lambda item: item*2, my_list)))\n",
    "print(my_list)\n",
    "\n",
    "#square\n",
    "\n",
    "my_list = [5,4,3]\n",
    "print(list(map(lambda item: item**2, my_list)))\n",
    "\n",
    "\n",
    "#list sorting\n",
    "\n",
    "a=[(0,2), (4,3), (9,9), (10,-1)]\n",
    "a.sort(key=lambda x:x[1])\n",
    "print(a)"
   ]
  },
  {
   "attachments": {},
   "cell_type": "markdown",
   "metadata": {},
   "source": [
    "### Iterable Comprehensions"
   ]
  },
  {
   "cell_type": "code",
   "execution_count": 7,
   "metadata": {},
   "outputs": [
    {
     "name": "stdout",
     "output_type": "stream",
     "text": [
      "['h', 'e', 'l', 'l', 'o']\n",
      "[0, 4, 16, 36, 64, 100, 144, 196, 256, 324, 400, 484, 576, 676, 784, 900, 1024, 1156, 1296, 1444, 1600, 1764, 1936, 2116, 2304, 2500, 2704, 2916, 3136, 3364, 3600, 3844, 4096, 4356, 4624, 4900, 5184, 5476, 5776, 6084, 6400, 6724, 7056, 7396, 7744, 8100, 8464, 8836, 9216, 9604]\n",
      "{'o', 'h', 'l', 'e'}\n",
      "{'b': 4}\n"
     ]
    }
   ],
   "source": [
    "# list comprehensions\n",
    "\n",
    "my_list = [char for char in 'hello']\n",
    "my_list2 = [num**2 for num in range(0,100) if num % 2 == 0]\n",
    "print(my_list)\n",
    "print(my_list2)\n",
    "\n",
    "\n",
    "#set comprenehsions\n",
    "\n",
    "my_list = {char for char in 'hello'}\n",
    "print(my_list)\n",
    "\n",
    "\n",
    "#dictionary comprehensions\n",
    "\n",
    "simple_dict = {'a': 1, 'b' : 2}\n",
    "my_dict = {key:value**2 for key,value in simple_dict.items() if value%2==0}\n",
    "print(my_dict)"
   ]
  },
  {
   "attachments": {},
   "cell_type": "markdown",
   "metadata": {},
   "source": [
    "### Exercises "
   ]
  },
  {
   "cell_type": "code",
   "execution_count": 8,
   "metadata": {},
   "outputs": [
    {
     "name": "stdout",
     "output_type": "stream",
     "text": [
      "['n', 'b']\n",
      "['Sisi', 'Bibi', 'Titi', 'Carla']\n",
      "[('a', 1), ('b', 2), ('c', 3), ('d', 4), ('e', 5)]\n",
      "[73, 65, 76, 100, 88]\n",
      "455\n"
     ]
    }
   ],
   "source": [
    "#Exercise: Comprehensions\n",
    "\n",
    "some_list = ['a','b','c','b','d','m','n','n']\n",
    "duplicates = list(set([n for n in some_list if (some_list.count(n) > 1)]))\n",
    "print(duplicates)\n",
    "\n",
    "\n",
    "\n",
    "#Exercise map,filter,reduce,zip\n",
    "from functools import reduce\n",
    "my_pets = ['sisi','bibi','titi','carla']\n",
    "def a(li):\n",
    "    for i in li:\n",
    "        i.capitalize()\n",
    "print(list(map(lambda x: x.capitalize(), my_pets)))\n",
    "\n",
    "\n",
    "my_strings = ['a','b','c','d','e']\n",
    "my_numbers = [5,4,3,2,1]\n",
    "print(list(zip(my_strings, sorted(my_numbers))))\n",
    "\n",
    "\n",
    "scores = [73,20,65,18,76,100,88]\n",
    "def check_score(item):\n",
    "    return item > 50\n",
    "print(list(filter(check_score, scores)))\n",
    "\n",
    "\n",
    "def accumulator(acc,item):\n",
    "    return acc + item\n",
    "print(reduce(accumulator,my_numbers + scores, 0))\n"
   ]
  }
 ],
 "metadata": {
  "kernelspec": {
   "display_name": "Python 3",
   "language": "python",
   "name": "python3"
  },
  "language_info": {
   "codemirror_mode": {
    "name": "ipython",
    "version": 3
   },
   "file_extension": ".py",
   "mimetype": "text/x-python",
   "name": "python",
   "nbconvert_exporter": "python",
   "pygments_lexer": "ipython3",
   "version": "3.8.3"
  },
  "orig_nbformat": 4,
  "vscode": {
   "interpreter": {
    "hash": "618e6f0a0f5e6103729bcee527c32647b6f1ff8ebde56d9153a8fa5e32a14150"
   }
  }
 },
 "nbformat": 4,
 "nbformat_minor": 2
}
