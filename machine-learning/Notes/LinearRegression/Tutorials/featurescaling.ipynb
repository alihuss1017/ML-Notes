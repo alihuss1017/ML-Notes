{
 "cells": [
  {
   "cell_type": "code",
   "execution_count": 5,
   "metadata": {},
   "outputs": [],
   "source": [
    "import numpy as np\n",
    "import matplotlib.pyplot as plt"
   ]
  },
  {
   "cell_type": "code",
   "execution_count": 6,
   "metadata": {},
   "outputs": [],
   "source": [
    "X_train = np.array([[2104, 5, 1, 45], [1416, 3, 2, 40], [852, 2, 1, 35]])"
   ]
  },
  {
   "attachments": {},
   "cell_type": "markdown",
   "metadata": {},
   "source": [
    "### z-score normalization\n",
    "\n",
    "To implement z-score normalization, adjust your input values as shown in this formula: <br> $$ x_{j}^{(i)} = \\frac {x_{j}^{(i)} - \\mu _{j}}{\\sigma _{j}} $$ <br> where j selects a feature or a column in the <b> X </b> matrix. $ \\mu _{j} $ is the mean of all the values for feature (j) and $ \\sigma _{j} $ is the standard deviation of feature (j). <br> $$ \\mu _{j} = \\frac {1}{m} \\displaystyle\\sum_{i=0}^{m-1}x_{j}^{(i)} $$  $$ \\sigma _{j}^{2} = \\frac {1}{m} \\displaystyle\\sum_{i=0}^{m-1}(x_{j}^{(i)} - \\mu _{j})^{2} $$"
   ]
  },
  {
   "cell_type": "code",
   "execution_count": 7,
   "metadata": {},
   "outputs": [],
   "source": [
    "def zscore_normalize_features(X):\n",
    "    mu = np.mean(X, axis = 0)\n",
    "    sigma = np.std(X, axis = 0)\n",
    "    X_norm = (X - mu) / sigma\n",
    "\n",
    "    return (X_norm, mu, sigma)"
   ]
  },
  {
   "cell_type": "code",
   "execution_count": 8,
   "metadata": {},
   "outputs": [
    {
     "name": "stdout",
     "output_type": "stream",
     "text": [
      "X_mu = [1.45733333e+03 3.33333333e+00 1.33333333e+00 4.00000000e+01], \n",
      "X_sigma = [5.11961804e+02 1.24721913e+00 4.71404521e-01 4.08248290e+00]\n",
      "Peak to Peak range by column in Raw X:[1252    3    1   10]\n",
      "Peak to Peak range by column in Normalized X:[2.44549494 2.40535118 2.12132034 2.44948974]\n",
      "[[ 1.26311506  1.33630621 -0.70710678  1.22474487]\n",
      " [-0.08073519 -0.26726124  1.41421356  0.        ]\n",
      " [-1.18237987 -1.06904497 -0.70710678 -1.22474487]]\n"
     ]
    }
   ],
   "source": [
    "X_norm, X_mu, X_sigma = zscore_normalize_features(X_train)\n",
    "print(f\"X_mu = {X_mu}, \\nX_sigma = {X_sigma}\")\n",
    "print(f\"Peak to Peak range by column in Raw X:{np.ptp(X_train,axis=0)}\")   \n",
    "print(f\"Peak to Peak range by column in Normalized X:{np.ptp(X_norm,axis=0)}\")\n",
    "print(X_norm)"
   ]
  }
 ],
 "metadata": {
  "kernelspec": {
   "display_name": "env",
   "language": "python",
   "name": "python3"
  },
  "language_info": {
   "codemirror_mode": {
    "name": "ipython",
    "version": 3
   },
   "file_extension": ".py",
   "mimetype": "text/x-python",
   "name": "python",
   "nbconvert_exporter": "python",
   "pygments_lexer": "ipython3",
   "version": "3.8.3"
  },
  "orig_nbformat": 4
 },
 "nbformat": 4,
 "nbformat_minor": 2
}
