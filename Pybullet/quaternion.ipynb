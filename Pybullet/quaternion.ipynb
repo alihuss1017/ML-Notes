{
 "cells": [
  {
   "attachments": {},
   "cell_type": "markdown",
   "metadata": {},
   "source": [
    "#Quaternions\n",
    "\n",
    "Quaternions are a method of describing the orientaiton of an object in 3D Space. They have 4 parameters:\n",
    "<li>     x-coordinate\n",
    "<li>     y-coordinate\n",
    "<li>     z-coordinate\n",
    "<li>     w: a scalar that stores the rotation around the vector\n",
    "\n",
    "Unlike the Euler coordinates, the xyz coordinates in Quaternions are complex and normalized.\n",
    "\n",
    "Say you rotate a rigid body about some axis. To derive the quaternion, you define that axis with a unit vector. You then multiply it by cos(theta/2) + sin(theta/2), where theta is your desired rotation. \n",
    "\n"
   ]
  },
  {
   "cell_type": "code",
   "execution_count": 20,
   "metadata": {},
   "outputs": [],
   "source": [
    "import numpy as np\n",
    "import math\n"
   ]
  },
  {
   "cell_type": "code",
   "execution_count": 21,
   "metadata": {},
   "outputs": [],
   "source": [
    "def get_quaternion_from_euler(roll,pitch,yaw):\n",
    "    qx = np.sin(roll/2)*np.cos(pitch/2)*np.cos(yaw/2) - np.cos(roll/2) * np.sin(pitch/2) * np.sin(yaw)/2\n",
    "    qy = np.cos(roll/2)*np.sin(pitch/2)*np.cos(yaw/2) + np.sin(roll/2) * np.cos(pitch/2) * np.sin(yaw)/2\n",
    "    qz = np.cos(roll/2)*np.cos(pitch/2)*np.sin(yaw/2) - np.sin(roll/2) * np.sin(pitch/2) * np.cos(yaw)/2\n",
    "    qw = np.cos(roll/2)*np.cos(pitch/2)*np.cos(yaw/2) + np.sin(roll/2) * np.sin(pitch/2) * np.sin(yaw)/2\n",
    "    return [qx,qy,qz,qw]"
   ]
  },
  {
   "cell_type": "code",
   "execution_count": 22,
   "metadata": {},
   "outputs": [
    {
     "name": "stdout",
     "output_type": "stream",
     "text": [
      "[0.0, 0.0, 0.7071067811865476, 0.7071067811865476]\n"
     ]
    }
   ],
   "source": [
    "\n",
    "print(get_quaternion_from_euler(0,0,np.pi/2))"
   ]
  },
  {
   "cell_type": "code",
   "execution_count": 23,
   "metadata": {},
   "outputs": [],
   "source": [
    "def quaternion_to_euler(q):\n",
    "    (x, y, z, w) = (q[0], q[1], q[2], q[3])\n",
    "    t0 = 2 * (w * x + y * z)\n",
    "    t1 = 1 - 2 * (x * x + y * y)\n",
    "    roll = math.atan2(t0,t1)\n",
    "    t2 = 2 * (w * y - z * x)\n",
    "    t2 = 1 if t2 > 1 else t2\n",
    "    t2 = -1 if t2 < -1 else t2\n",
    "    pitch = math.asin(t2)\n",
    "    t3 = 2 * (w * z + x * y)\n",
    "    t4 = 1 - 2 * (y * y + z * z)\n",
    "    yaw = math.atan2(t3,t4)\n",
    "    return [roll, pitch, yaw]\n",
    "   "
   ]
  },
  {
   "cell_type": "code",
   "execution_count": 24,
   "metadata": {},
   "outputs": [
    {
     "data": {
      "text/plain": [
       "[0.0, 0.0, 1.5707963267948968]"
      ]
     },
     "execution_count": 24,
     "metadata": {},
     "output_type": "execute_result"
    }
   ],
   "source": [
    "quaternion_to_euler([0.0, 0.0, 0.7071067811865476, 0.7071067811865476])"
   ]
  },
  {
   "cell_type": "code",
   "execution_count": 25,
   "metadata": {},
   "outputs": [
    {
     "name": "stdout",
     "output_type": "stream",
     "text": [
      "4.0\n"
     ]
    }
   ],
   "source": [
    "import tkinter as tk\n",
    "\n",
    "root = tk.Tk()\n",
    "var = tk.DoubleVar()\n",
    "slider = tk.Scale(root, variable=var, from_=0, to=100, orient=\"horizontal\", label=\"Volume\")\n",
    "slider.pack()\n",
    "root.mainloop()\n",
    "x= var.get()\n",
    "print(x)"
   ]
  }
 ],
 "metadata": {
  "kernelspec": {
   "display_name": "Python 3",
   "language": "python",
   "name": "python3"
  },
  "language_info": {
   "codemirror_mode": {
    "name": "ipython",
    "version": 3
   },
   "file_extension": ".py",
   "mimetype": "text/x-python",
   "name": "python",
   "nbconvert_exporter": "python",
   "pygments_lexer": "ipython3",
   "version": "3.8.3 (tags/v3.8.3:6f8c832, May 13 2020, 22:37:02) [MSC v.1924 64 bit (AMD64)]"
  },
  "orig_nbformat": 4,
  "vscode": {
   "interpreter": {
    "hash": "618e6f0a0f5e6103729bcee527c32647b6f1ff8ebde56d9153a8fa5e32a14150"
   }
  }
 },
 "nbformat": 4,
 "nbformat_minor": 2
}
