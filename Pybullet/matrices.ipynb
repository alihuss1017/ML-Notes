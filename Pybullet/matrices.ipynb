{
 "cells": [
  {
   "cell_type": "code",
   "execution_count": 7,
   "metadata": {},
   "outputs": [],
   "source": [
    "import numpy as np\n",
    "import matplotlib.pyplot as plt\n",
    "import pybullet as pb\n",
    "import pybullet_data\n",
    "import time"
   ]
  },
  {
   "cell_type": "code",
   "execution_count": 8,
   "metadata": {},
   "outputs": [],
   "source": [
    "def read_parameters(dbg_params):\n",
    "    '''Reads values from debug parameters\n",
    "    \n",
    "    Parameters\n",
    "    ----------\n",
    "    dbg_params : dict\n",
    "        Dictionary where the keys are names (str) of parameters and the values are\n",
    "        the itemUniqueId (int) for the corresponing debug item in pybullet\n",
    "    \n",
    "    Returns\n",
    "    -------\n",
    "    dict \n",
    "        Dictionary that maps parameter names (str) to parameter values (float)\n",
    "    '''\n",
    "    values = dict()\n",
    "    for name, param in dbg_params.items():\n",
    "        values[name] = pb.readUserDebugParameter(param)\n",
    "\n",
    "    return values"
   ]
  },
  {
   "cell_type": "code",
   "execution_count": 9,
   "metadata": {},
   "outputs": [],
   "source": [
    "\n",
    "def interactive_camera_placement(pos_scale=1., max_dist=10., show_plot=True, verbose=True):\n",
    "    np.set_printoptions(suppress=True, precision=4)\n",
    "\n",
    "    dbg = dict()\n",
    "    # for view matrix\n",
    "    dbg['target_x'] = pb.addUserDebugParameter('target_x', -pos_scale, pos_scale, 0)\n",
    "    dbg['target_y'] = pb.addUserDebugParameter('target_y', -pos_scale, pos_scale, 0)\n",
    "    dbg['target_z'] = pb.addUserDebugParameter('target_z', -pos_scale, pos_scale, 0)\n",
    "    dbg['distance'] = pb.addUserDebugParameter('distance', 0, max_dist, max_dist/2)\n",
    "    dbg['yaw'] =  pb.addUserDebugParameter('yaw', -180, 180, 0)\n",
    "    dbg['pitch'] =  pb.addUserDebugParameter('pitch', -180, 180, -40)\n",
    "    dbg['roll'] =  pb.addUserDebugParameter('roll', -180, 180, 0)\n",
    "    dbg['upAxisIndex'] =  pb.addUserDebugParameter('toggle upAxisIndex', 1, 0, 1)\n",
    "\n",
    "    # for projection matrix\n",
    "    dbg['width'] = pb.addUserDebugParameter('width', 100, 1000, 320)\n",
    "    dbg['height'] = pb.addUserDebugParameter('height', 100, 1000, 240)\n",
    "    dbg['fov'] = pb.addUserDebugParameter('fov', 1, 180, 50)\n",
    "    dbg['near_val'] = pb.addUserDebugParameter('near_val', 1e-6, 1, 0.1)\n",
    "    dbg['far_val'] = pb.addUserDebugParameter('far_val', 1, 100, 10)\n",
    "\n",
    "    # visual aids for target and camera pose\n",
    "    target_vis_id = pb.createVisualShape(pb.GEOM_SPHERE,radius=0.01, rgbaColor=[1,0,0,0.7])\n",
    "    target_body = pb.createMultiBody(0, -1, target_vis_id)\n",
    "\n",
    "    camera_vis_id = pb.createVisualShape(pb.GEOM_BOX,halfExtents=[0.02, 0.05, 0.02], rgbaColor=[1,0,0,0.7])\n",
    "    camera_body = pb.createMultiBody(0, -1, camera_vis_id)\n",
    "\n",
    "    # pyplot window to show feed\n",
    "    if show_plot:\n",
    "        plt.figure()\n",
    "        plt_im = plt.imshow(np.zeros((240,320,4)))\n",
    "        plt.axis('off')\n",
    "        plt.tight_layout(pad=0)\n",
    "\n",
    "    dbg['print'] =  pb.addUserDebugParameter('print params', 1, 0, 1)\n",
    "    old_print_val = 1\n",
    "    while 1:\n",
    "        values = read_parameters(dbg)\n",
    "\n",
    "        target_pos = np.array([values[f'target_{c}'] for c in 'xyz'])\n",
    "        upAxisIndex = (int(values['upAxisIndex']) % 2 ) + 1\n",
    "        view_mtx = pb.computeViewMatrixFromYawPitchRoll(target_pos, values['distance'],values['yaw'],values['pitch'],values['roll'],upAxisIndex)\n",
    "\n",
    "        width = int(values['width'])\n",
    "        height = int(values['height'])\n",
    "        aspect = width/height\n",
    "        proj_mtx = pb.computeProjectionMatrixFOV(values['fov'],aspect,values['near_val'], values['far_val'])\n",
    "\n",
    "        #update visual aids for camera, target pos\n",
    "        pb.resetBasePositionAndOrientation(target_body, target_pos, [0,0,0,1])\n",
    "\n",
    "        view_mtx = np.array(view_mtx).reshape((4,4),order='F')\n",
    "        cam_pos = np.dot(view_mtx[:3,:3].T, -view_mtx[:3,3])\n",
    "        cam_euler = np.radians([values['pitch'],values['roll'],values['yaw']])\n",
    "        cam_quat = pb.getQuaternionFromEuler(cam_euler)\n",
    "        pb.resetBasePositionAndOrientation(camera_body, cam_pos, cam_quat)\n",
    "\n",
    "        view_mtx = view_mtx.reshape(-1, order='F')\n",
    "        img = pb.getCameraImage(width, height, view_mtx, proj_mtx)[1]\n",
    "        if show_plot:\n",
    "            plt_im.set_array(img)\n",
    "            plt.gca().set_aspect(height/width)\n",
    "            plt.draw()\n",
    "            plt.pause(0.1)\n",
    "\n",
    "        if old_print_val != values['print']:\n",
    "            old_print_val = values['print']\n",
    "            print(\"\\n========================================\")\n",
    "            print(f\"VIEW MATRIX : \\n{np.array_str(view_mtx)}\")\n",
    "            print(f\"PROJECTION MATRIX : \\n{np.array_str(view_mtx)}\")\n",
    "            if verbose:\n",
    "                print(f\"target position : {np.array_str(target_pos)}\")\n",
    "                print(f\"distance : {dbg['distance']:.2f}\")\n",
    "                print(f\"yaw : {dbg['yaw']:.2f}\")\n",
    "                print(f\"pitch : {dbg['pitch']:.2f}\")\n",
    "                print(f\"roll : {dbg['roll']:.2f}\")\n",
    "                print(f\"upAxisIndex : {upAxisIndex:d}\")\n",
    "                print(f\"width : {width:d}\")\n",
    "                print(f\"height : {height:d}\")\n",
    "                print(f\"fov : {dbg['fov']:.1f}\")\n",
    "                print(f\"aspect : {aspect:.2f}\")\n",
    "                print(f\"nearVal : {dbg['near_val']:.2f}\")\n",
    "                print(f\"farVal : {dbg['far_val']:.2f}\")\n",
    "            print(\"========================================\\n\")"
   ]
  },
  {
   "cell_type": "code",
   "execution_count": 10,
   "metadata": {},
   "outputs": [],
   "source": [
    "def read_parameters(dbg_params):\n",
    "    '''Reads values from debug parameters\n",
    "    \n",
    "    Parameters\n",
    "    ----------\n",
    "    dbg_params : dict\n",
    "        Dictionary where the keys are names (str) of parameters and the values are\n",
    "        the itemUniqueId (int) for the corresponing debug item in pybullet\n",
    "    \n",
    "    Returns\n",
    "    -------\n",
    "    dict \n",
    "        Dictionary that maps parameter names (str) to parameter values (float)\n",
    "    '''\n",
    "    values = dict()\n",
    "    for name, param in dbg_params.items():\n",
    "        values[name] = pb.readUserDebugParameter(param)\n",
    "\n",
    "    return values"
   ]
  },
  {
   "cell_type": "code",
   "execution_count": 11,
   "metadata": {},
   "outputs": [],
   "source": [
    "def initialize_simulator():\n",
    "    '''Creates a pybullet simulator in GUI mode and adds some objects so the\n",
    "    camera has something to look at\n",
    "    '''\n",
    "    pb.connect(pb.GUI)\n",
    "    pb.setAdditionalSearchPath(pybullet_data.getDataPath())\n",
    "    pb.loadURDF('plane.urdf')\n",
    "\n",
    "    # add a duck\n",
    "    pb.loadURDF('r2d2.urdf', [0,0,1], globalScaling = 1)\n",
    "    pb.setGravity(0,0,-10)\n",
    "    \n",
    "   "
   ]
  },
  {
   "cell_type": "code",
   "execution_count": 12,
   "metadata": {},
   "outputs": [
    {
     "ename": "error",
     "evalue": "Not connected to physics server.",
     "output_type": "error",
     "traceback": [
      "\u001b[1;31m---------------------------------------------------------------------------\u001b[0m",
      "\u001b[1;31merror\u001b[0m                                     Traceback (most recent call last)",
      "Cell \u001b[1;32mIn [12], line 3\u001b[0m\n\u001b[0;32m      1\u001b[0m \u001b[39mif\u001b[39;00m \u001b[39m__name__\u001b[39m \u001b[39m==\u001b[39m \u001b[39m\"\u001b[39m\u001b[39m__main__\u001b[39m\u001b[39m\"\u001b[39m:\n\u001b[0;32m      2\u001b[0m     \u001b[39m# Substitute this for the initialization of your simulator\u001b[39;00m\n\u001b[1;32m----> 3\u001b[0m     initialize_simulator()\n\u001b[0;32m      5\u001b[0m     interactive_camera_placement()\n",
      "Cell \u001b[1;32mIn [11], line 13\u001b[0m, in \u001b[0;36minitialize_simulator\u001b[1;34m()\u001b[0m\n\u001b[0;32m     11\u001b[0m pb\u001b[39m.\u001b[39msetGravity(\u001b[39m0\u001b[39m,\u001b[39m0\u001b[39m,\u001b[39m-\u001b[39m\u001b[39m10\u001b[39m)\n\u001b[0;32m     12\u001b[0m \u001b[39mfor\u001b[39;00m i \u001b[39min\u001b[39;00m \u001b[39mrange\u001b[39m(\u001b[39m10000\u001b[39m):\n\u001b[1;32m---> 13\u001b[0m     pb\u001b[39m.\u001b[39;49mstepSimulation()\n\u001b[0;32m     14\u001b[0m     time\u001b[39m.\u001b[39msleep(\u001b[39m1.\u001b[39m\u001b[39m/\u001b[39m\u001b[39m240.\u001b[39m)\n\u001b[0;32m     15\u001b[0m p\u001b[39m.\u001b[39mdisconnect()\n",
      "\u001b[1;31merror\u001b[0m: Not connected to physics server."
     ]
    }
   ],
   "source": [
    "if __name__ == \"__main__\":\n",
    "    # Substitute this for the initialization of your simulator\n",
    "    initialize_simulator()\n",
    "\n",
    "    interactive_camera_placement()"
   ]
  }
 ],
 "metadata": {
  "kernelspec": {
   "display_name": "Python 3",
   "language": "python",
   "name": "python3"
  },
  "language_info": {
   "codemirror_mode": {
    "name": "ipython",
    "version": 3
   },
   "file_extension": ".py",
   "mimetype": "text/x-python",
   "name": "python",
   "nbconvert_exporter": "python",
   "pygments_lexer": "ipython3",
   "version": "3.8.3"
  },
  "orig_nbformat": 4,
  "vscode": {
   "interpreter": {
    "hash": "618e6f0a0f5e6103729bcee527c32647b6f1ff8ebde56d9153a8fa5e32a14150"
   }
  }
 },
 "nbformat": 4,
 "nbformat_minor": 2
}
